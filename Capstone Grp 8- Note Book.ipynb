{
 "cells": [
  {
   "cell_type": "markdown",
   "id": "a302d3d9",
   "metadata": {},
   "source": [
    "# Problem Statement"
   ]
  },
  {
   "cell_type": "markdown",
   "id": "319f2981",
   "metadata": {},
   "source": [
    "Our client is an Insurance company which has provided Health Insurance to its customers. Now, it wants to know whether its customers need Vehicle Insurance or not, so we have to build a model to predict whoever will be interested in Vehicle Insurance provided by the company."
   ]
  },
  {
   "cell_type": "markdown",
   "id": "23d5ff9f",
   "metadata": {},
   "source": [
    "# Data Description"
   ]
  },
  {
   "cell_type": "markdown",
   "id": "fe8a0998",
   "metadata": {},
   "source": [
    "This dataset contains information about customers who all are buying Health Insurance.Our aim is to find that which customer is ready to take Vehicle Insurance also.\n",
    "\n",
    "**Id:**Unique ID for customers\n",
    "\n",
    "**Gender:** Gender of the customer\n",
    "\n",
    "**Age:**Age of the customer\n",
    "\n",
    "**Driving_License:**0: Customer does not have DL. 1: Customer already has DL\n",
    "\n",
    "**Region_Code:**Unique code for region of the customer\n",
    "\n",
    "**Previously_Insured:**0: Customer does not have Vehicle Insurance. 1:Customer already has Vehicle       Insurance\n",
    "\n",
    "**Vehicle_Age**: Age of the Vehicle\n",
    "\n",
    "**Vehicle_Damage**: 0: Customer didn’t get his/her damaged vehicle in the past. 1: Customer got his/her vehicle damaged in the past\n",
    "\n",
    "**Annual_Premium**: The amount needs to pay as premium in the year\n",
    "\n",
    "**PolicySalesChannel**: Anonymized Code for the channel of outreaching to the customer, i.e. Different Agents, Over Mail, Over Phone, In person, etc.\n",
    "\n",
    "**Vintage**: Number of Days customer has been associated with the company\n",
    "\n",
    "**Response**: 0:Customer is not interested. 1: Customer is interested\n",
    "\n"
   ]
  },
  {
   "cell_type": "markdown",
   "id": "624f5940",
   "metadata": {},
   "source": [
    "# Import Libraries & Dataset"
   ]
  },
  {
   "cell_type": "code",
   "execution_count": 93,
   "id": "f26d3aa3",
   "metadata": {},
   "outputs": [],
   "source": [
    "#import numpy\n",
    "import numpy as np\n",
    "\n",
    "#import pandas\n",
    "import pandas as pd\n",
    "\n",
    "#import subpackage of matplotlib\n",
    "import matplotlib.pyplot as plt\n",
    "\n",
    "#import seaborn\n",
    "import seaborn as sns \n",
    "\n",
    "#import warnings\n",
    "import warnings\n",
    "warnings.filterwarnings('ignore')\n",
    "import scipy.stats as stats\n",
    "\n",
    "#import standard scalar to perform scaling\n",
    "from sklearn.preprocessing import StandardScaler\n",
    "\n",
    "#import logistic regression algorithm\n",
    "from sklearn.linear_model import LogisticRegression\n",
    "\n",
    "#import various function from sklearn library\n",
    "from sklearn.linear_model import Lasso,Ridge,SGDRegressor\n",
    "from sklearn.model_selection import train_test_split,GridSearchCV,cross_val_score\n",
    "from sklearn.feature_selection import RFE\n",
    "from sklearn.metrics import accuracy_score,classification_report,roc_auc_score,confusion_matrix,f1_score,precision_score\n",
    "from sklearn.metrics import cohen_kappa_score,roc_curve\n",
    "from sklearn.metrics import mean_absolute_error,mean_squared_error\n",
    "from sklearn.feature_selection import RFE\n",
    "from sklearn.neighbors import KNeighborsClassifier\n",
    "\n",
    "#import various function from statsmodel\n",
    "import statsmodels.api as sm\n",
    "from statsmodels.stats.outliers_influence import variance_inflation_factor\n",
    "\n",
    "#import smote for balancing data\n",
    "from imblearn.over_sampling import SMOTE\n",
    "\n",
    "#import counter to count the values based on each category\n",
    "from collections import Counter\n",
    "\n",
    "#Ensemble techniques\n",
    "from sklearn.ensemble import BaggingClassifier,RandomForestClassifier\n",
    "from sklearn.ensemble import AdaBoostClassifier,GradientBoostingClassifier\n",
    "from sklearn.ensemble import StackingClassifier\n",
    "from xgboost import XGBClassifier"
   ]
  },
  {
   "cell_type": "code",
   "execution_count": 3,
   "id": "41f0b5e9",
   "metadata": {},
   "outputs": [
    {
     "data": {
      "text/html": [
       "<div>\n",
       "<style scoped>\n",
       "    .dataframe tbody tr th:only-of-type {\n",
       "        vertical-align: middle;\n",
       "    }\n",
       "\n",
       "    .dataframe tbody tr th {\n",
       "        vertical-align: top;\n",
       "    }\n",
       "\n",
       "    .dataframe thead th {\n",
       "        text-align: right;\n",
       "    }\n",
       "</style>\n",
       "<table border=\"1\" class=\"dataframe\">\n",
       "  <thead>\n",
       "    <tr style=\"text-align: right;\">\n",
       "      <th></th>\n",
       "      <th>id</th>\n",
       "      <th>Gender</th>\n",
       "      <th>Age</th>\n",
       "      <th>Driving_License</th>\n",
       "      <th>Region_Code</th>\n",
       "      <th>Previously_Insured</th>\n",
       "      <th>Vehicle_Age</th>\n",
       "      <th>Vehicle_Damage</th>\n",
       "      <th>Annual_Premium</th>\n",
       "      <th>Policy_Sales_Channel</th>\n",
       "      <th>Vintage</th>\n",
       "      <th>Response</th>\n",
       "    </tr>\n",
       "  </thead>\n",
       "  <tbody>\n",
       "    <tr>\n",
       "      <th>0</th>\n",
       "      <td>1</td>\n",
       "      <td>Male</td>\n",
       "      <td>44</td>\n",
       "      <td>1</td>\n",
       "      <td>28.0</td>\n",
       "      <td>0</td>\n",
       "      <td>&gt; 2 Years</td>\n",
       "      <td>Yes</td>\n",
       "      <td>40454.0</td>\n",
       "      <td>26.0</td>\n",
       "      <td>217</td>\n",
       "      <td>1</td>\n",
       "    </tr>\n",
       "    <tr>\n",
       "      <th>1</th>\n",
       "      <td>2</td>\n",
       "      <td>Male</td>\n",
       "      <td>76</td>\n",
       "      <td>1</td>\n",
       "      <td>3.0</td>\n",
       "      <td>0</td>\n",
       "      <td>1-2 Year</td>\n",
       "      <td>No</td>\n",
       "      <td>33536.0</td>\n",
       "      <td>26.0</td>\n",
       "      <td>183</td>\n",
       "      <td>0</td>\n",
       "    </tr>\n",
       "    <tr>\n",
       "      <th>2</th>\n",
       "      <td>3</td>\n",
       "      <td>Male</td>\n",
       "      <td>47</td>\n",
       "      <td>1</td>\n",
       "      <td>28.0</td>\n",
       "      <td>0</td>\n",
       "      <td>&gt; 2 Years</td>\n",
       "      <td>Yes</td>\n",
       "      <td>38294.0</td>\n",
       "      <td>26.0</td>\n",
       "      <td>27</td>\n",
       "      <td>1</td>\n",
       "    </tr>\n",
       "    <tr>\n",
       "      <th>3</th>\n",
       "      <td>4</td>\n",
       "      <td>Male</td>\n",
       "      <td>21</td>\n",
       "      <td>1</td>\n",
       "      <td>11.0</td>\n",
       "      <td>1</td>\n",
       "      <td>&lt; 1 Year</td>\n",
       "      <td>No</td>\n",
       "      <td>28619.0</td>\n",
       "      <td>152.0</td>\n",
       "      <td>203</td>\n",
       "      <td>0</td>\n",
       "    </tr>\n",
       "    <tr>\n",
       "      <th>4</th>\n",
       "      <td>5</td>\n",
       "      <td>Female</td>\n",
       "      <td>29</td>\n",
       "      <td>1</td>\n",
       "      <td>41.0</td>\n",
       "      <td>1</td>\n",
       "      <td>&lt; 1 Year</td>\n",
       "      <td>No</td>\n",
       "      <td>27496.0</td>\n",
       "      <td>152.0</td>\n",
       "      <td>39</td>\n",
       "      <td>0</td>\n",
       "    </tr>\n",
       "  </tbody>\n",
       "</table>\n",
       "</div>"
      ],
      "text/plain": [
       "   id  Gender  Age  Driving_License  Region_Code  Previously_Insured  \\\n",
       "0   1    Male   44                1         28.0                   0   \n",
       "1   2    Male   76                1          3.0                   0   \n",
       "2   3    Male   47                1         28.0                   0   \n",
       "3   4    Male   21                1         11.0                   1   \n",
       "4   5  Female   29                1         41.0                   1   \n",
       "\n",
       "  Vehicle_Age Vehicle_Damage  Annual_Premium  Policy_Sales_Channel  Vintage  \\\n",
       "0   > 2 Years            Yes         40454.0                  26.0      217   \n",
       "1    1-2 Year             No         33536.0                  26.0      183   \n",
       "2   > 2 Years            Yes         38294.0                  26.0       27   \n",
       "3    < 1 Year             No         28619.0                 152.0      203   \n",
       "4    < 1 Year             No         27496.0                 152.0       39   \n",
       "\n",
       "   Response  \n",
       "0         1  \n",
       "1         0  \n",
       "2         1  \n",
       "3         0  \n",
       "4         0  "
      ]
     },
     "execution_count": 3,
     "metadata": {},
     "output_type": "execute_result"
    }
   ],
   "source": [
    "df_health= pd.read_csv('C:/Users/Sharon/Downloads/HealthInsCrosSelPredict/train.csv')\n",
    "df_health.head()"
   ]
  },
  {
   "cell_type": "markdown",
   "id": "189b001f",
   "metadata": {},
   "source": [
    "# Exploratory Data Analysis(EDA)"
   ]
  },
  {
   "cell_type": "code",
   "execution_count": 4,
   "id": "4d4f7837",
   "metadata": {},
   "outputs": [
    {
     "data": {
      "text/plain": [
       "(381109, 12)"
      ]
     },
     "execution_count": 4,
     "metadata": {},
     "output_type": "execute_result"
    }
   ],
   "source": [
    "df_health.shape"
   ]
  },
  {
   "cell_type": "markdown",
   "id": "9b692af4",
   "metadata": {},
   "source": [
    "## Checking Data types "
   ]
  },
  {
   "cell_type": "code",
   "execution_count": 5,
   "id": "7ea69b20",
   "metadata": {},
   "outputs": [
    {
     "data": {
      "text/plain": [
       "id                        int64\n",
       "Gender                   object\n",
       "Age                       int64\n",
       "Driving_License           int64\n",
       "Region_Code             float64\n",
       "Previously_Insured        int64\n",
       "Vehicle_Age              object\n",
       "Vehicle_Damage           object\n",
       "Annual_Premium          float64\n",
       "Policy_Sales_Channel    float64\n",
       "Vintage                   int64\n",
       "Response                  int64\n",
       "dtype: object"
      ]
     },
     "execution_count": 5,
     "metadata": {},
     "output_type": "execute_result"
    }
   ],
   "source": [
    "df_health.dtypes"
   ]
  },
  {
   "cell_type": "markdown",
   "id": "f5057b14",
   "metadata": {},
   "source": [
    "## Data type Conversion"
   ]
  },
  {
   "cell_type": "code",
   "execution_count": 6,
   "id": "a7d7dca4",
   "metadata": {},
   "outputs": [
    {
     "data": {
      "text/plain": [
       "id                        int64\n",
       "Gender                   object\n",
       "Age                       int64\n",
       "Driving_License          object\n",
       "Region_Code             float64\n",
       "Previously_Insured       object\n",
       "Vehicle_Age              object\n",
       "Vehicle_Damage           object\n",
       "Annual_Premium          float64\n",
       "Policy_Sales_Channel    float64\n",
       "Vintage                   int64\n",
       "Response                  int64\n",
       "dtype: object"
      ]
     },
     "execution_count": 6,
     "metadata": {},
     "output_type": "execute_result"
    }
   ],
   "source": [
    "df_health['Driving_License']=df_health['Driving_License'].astype('object')\n",
    "df_health['Previously_Insured']=df_health['Previously_Insured'].astype('object')\n",
    "df_health.dtypes"
   ]
  },
  {
   "cell_type": "markdown",
   "id": "bb9e8c86",
   "metadata": {},
   "source": [
    "## Checking for Null /Missing Values & Duplicates"
   ]
  },
  {
   "cell_type": "code",
   "execution_count": 7,
   "id": "dbe8a5d6",
   "metadata": {},
   "outputs": [
    {
     "data": {
      "text/plain": [
       "id                      0\n",
       "Gender                  0\n",
       "Age                     0\n",
       "Driving_License         0\n",
       "Region_Code             0\n",
       "Previously_Insured      0\n",
       "Vehicle_Age             0\n",
       "Vehicle_Damage          0\n",
       "Annual_Premium          0\n",
       "Policy_Sales_Channel    0\n",
       "Vintage                 0\n",
       "Response                0\n",
       "dtype: int64"
      ]
     },
     "execution_count": 7,
     "metadata": {},
     "output_type": "execute_result"
    }
   ],
   "source": [
    "df_health.isnull().sum()"
   ]
  },
  {
   "cell_type": "markdown",
   "id": "25fd8a92",
   "metadata": {},
   "source": [
    "There are no missing values"
   ]
  },
  {
   "cell_type": "code",
   "execution_count": 8,
   "id": "4229caaf",
   "metadata": {},
   "outputs": [
    {
     "data": {
      "text/plain": [
       "False    381109\n",
       "dtype: int64"
      ]
     },
     "execution_count": 8,
     "metadata": {},
     "output_type": "execute_result"
    }
   ],
   "source": [
    "df_health.duplicated().value_counts()"
   ]
  },
  {
   "cell_type": "markdown",
   "id": "7845e774",
   "metadata": {},
   "source": [
    "There are no duplicates"
   ]
  },
  {
   "cell_type": "markdown",
   "id": "698487c2",
   "metadata": {},
   "source": [
    "## Understanding the data"
   ]
  },
  {
   "cell_type": "code",
   "execution_count": 9,
   "id": "14cb4569",
   "metadata": {},
   "outputs": [
    {
     "name": "stdout",
     "output_type": "stream",
     "text": [
      "<class 'pandas.core.frame.DataFrame'>\n",
      "RangeIndex: 381109 entries, 0 to 381108\n",
      "Data columns (total 12 columns):\n",
      " #   Column                Non-Null Count   Dtype  \n",
      "---  ------                --------------   -----  \n",
      " 0   id                    381109 non-null  int64  \n",
      " 1   Gender                381109 non-null  object \n",
      " 2   Age                   381109 non-null  int64  \n",
      " 3   Driving_License       381109 non-null  object \n",
      " 4   Region_Code           381109 non-null  float64\n",
      " 5   Previously_Insured    381109 non-null  object \n",
      " 6   Vehicle_Age           381109 non-null  object \n",
      " 7   Vehicle_Damage        381109 non-null  object \n",
      " 8   Annual_Premium        381109 non-null  float64\n",
      " 9   Policy_Sales_Channel  381109 non-null  float64\n",
      " 10  Vintage               381109 non-null  int64  \n",
      " 11  Response              381109 non-null  int64  \n",
      "dtypes: float64(3), int64(4), object(5)\n",
      "memory usage: 34.9+ MB\n"
     ]
    }
   ],
   "source": [
    "df_health.info()"
   ]
  },
  {
   "cell_type": "markdown",
   "id": "9522246d",
   "metadata": {},
   "source": [
    "## Describing the numerical columns of the data"
   ]
  },
  {
   "cell_type": "code",
   "execution_count": 10,
   "id": "26784b0a",
   "metadata": {},
   "outputs": [],
   "source": [
    "numerical_columns=['Age','Annual_Premium','Vintage']"
   ]
  },
  {
   "cell_type": "code",
   "execution_count": 11,
   "id": "0660b600",
   "metadata": {
    "scrolled": true
   },
   "outputs": [
    {
     "data": {
      "text/html": [
       "<div>\n",
       "<style scoped>\n",
       "    .dataframe tbody tr th:only-of-type {\n",
       "        vertical-align: middle;\n",
       "    }\n",
       "\n",
       "    .dataframe tbody tr th {\n",
       "        vertical-align: top;\n",
       "    }\n",
       "\n",
       "    .dataframe thead th {\n",
       "        text-align: right;\n",
       "    }\n",
       "</style>\n",
       "<table border=\"1\" class=\"dataframe\">\n",
       "  <thead>\n",
       "    <tr style=\"text-align: right;\">\n",
       "      <th></th>\n",
       "      <th>Age</th>\n",
       "      <th>Annual_Premium</th>\n",
       "      <th>Vintage</th>\n",
       "    </tr>\n",
       "  </thead>\n",
       "  <tbody>\n",
       "    <tr>\n",
       "      <th>count</th>\n",
       "      <td>381109.000000</td>\n",
       "      <td>381109.000000</td>\n",
       "      <td>381109.000000</td>\n",
       "    </tr>\n",
       "    <tr>\n",
       "      <th>mean</th>\n",
       "      <td>38.822584</td>\n",
       "      <td>30564.389581</td>\n",
       "      <td>154.347397</td>\n",
       "    </tr>\n",
       "    <tr>\n",
       "      <th>std</th>\n",
       "      <td>15.511611</td>\n",
       "      <td>17213.155057</td>\n",
       "      <td>83.671304</td>\n",
       "    </tr>\n",
       "    <tr>\n",
       "      <th>min</th>\n",
       "      <td>20.000000</td>\n",
       "      <td>2630.000000</td>\n",
       "      <td>10.000000</td>\n",
       "    </tr>\n",
       "    <tr>\n",
       "      <th>25%</th>\n",
       "      <td>25.000000</td>\n",
       "      <td>24405.000000</td>\n",
       "      <td>82.000000</td>\n",
       "    </tr>\n",
       "    <tr>\n",
       "      <th>50%</th>\n",
       "      <td>36.000000</td>\n",
       "      <td>31669.000000</td>\n",
       "      <td>154.000000</td>\n",
       "    </tr>\n",
       "    <tr>\n",
       "      <th>75%</th>\n",
       "      <td>49.000000</td>\n",
       "      <td>39400.000000</td>\n",
       "      <td>227.000000</td>\n",
       "    </tr>\n",
       "    <tr>\n",
       "      <th>max</th>\n",
       "      <td>85.000000</td>\n",
       "      <td>540165.000000</td>\n",
       "      <td>299.000000</td>\n",
       "    </tr>\n",
       "  </tbody>\n",
       "</table>\n",
       "</div>"
      ],
      "text/plain": [
       "                 Age  Annual_Premium        Vintage\n",
       "count  381109.000000   381109.000000  381109.000000\n",
       "mean       38.822584    30564.389581     154.347397\n",
       "std        15.511611    17213.155057      83.671304\n",
       "min        20.000000     2630.000000      10.000000\n",
       "25%        25.000000    24405.000000      82.000000\n",
       "50%        36.000000    31669.000000     154.000000\n",
       "75%        49.000000    39400.000000     227.000000\n",
       "max        85.000000   540165.000000     299.000000"
      ]
     },
     "execution_count": 11,
     "metadata": {},
     "output_type": "execute_result"
    }
   ],
   "source": [
    "df_health[numerical_columns].describe()"
   ]
  },
  {
   "cell_type": "markdown",
   "id": "486f1bc5",
   "metadata": {},
   "source": [
    "# Univariate Analysis"
   ]
  },
  {
   "cell_type": "markdown",
   "id": "92fcf756",
   "metadata": {},
   "source": [
    "## Target Variable: Response"
   ]
  },
  {
   "cell_type": "code",
   "execution_count": 12,
   "id": "e36d9c77",
   "metadata": {},
   "outputs": [
    {
     "data": {
      "image/png": "[encoded data removed]",
      "text/plain": [
       "<Figure size 432x288 with 1 Axes>"
      ]
     },
     "metadata": {
      "needs_background": "light"
     },
     "output_type": "display_data"
    }
   ],
   "source": [
    "sns.countplot(df_health['Response']);\n",
    "pct_0=str(round(df_health['Response'].value_counts()[0]*100/len(df_health),2)) + str('%')\n",
    "pct_1=str(round(df_health['Response'].value_counts()[1]*100/len(df_health),2)) + str('%')\n",
    "plt.text(x=-0.05,y=df_health['Response'].value_counts()[0]/2,s=pct_0)\n",
    "plt.text(x=0.95,y=df_health['Response'].value_counts()[1]/2,s=pct_1)\n",
    "plt.show()\n"
   ]
  },
  {
   "cell_type": "markdown",
   "id": "2cea8502",
   "metadata": {},
   "source": [
    "Inference:\n",
    "Number of people who are NOT interested: 334399 and its percentage is 87.7\n",
    "4%\n",
    "Number of people who are interested: 46710 and its percentage is 12.26%"
   ]
  },
  {
   "cell_type": "markdown",
   "id": "fa4c2773",
   "metadata": {},
   "source": [
    "## Age Dist."
   ]
  },
  {
   "cell_type": "code",
   "execution_count": 13,
   "id": "29ee2f5e",
   "metadata": {},
   "outputs": [
    {
     "data": {
      "image/png": "[encoded data removed]",
      "text/plain": [
       "<Figure size 432x288 with 1 Axes>"
      ]
     },
     "metadata": {
      "needs_background": "light"
     },
     "output_type": "display_data"
    }
   ],
   "source": [
    "sns.distplot(df_health.Age);\n",
    "plt.show()"
   ]
  },
  {
   "cell_type": "markdown",
   "id": "aacff625",
   "metadata": {},
   "source": [
    "Inference: The Age feature is right skewed."
   ]
  },
  {
   "cell_type": "code",
   "execution_count": 14,
   "id": "78d38beb",
   "metadata": {},
   "outputs": [
    {
     "data": {
      "image/png": "[encoded data removed]",
      "text/plain": [
       "<Figure size 432x288 with 1 Axes>"
      ]
     },
     "metadata": {
      "needs_background": "light"
     },
     "output_type": "display_data"
    }
   ],
   "source": [
    "sns.boxplot(df_health.Age)\n",
    "plt.show()"
   ]
  },
  {
   "cell_type": "markdown",
   "id": "0e874a5a",
   "metadata": {},
   "source": [
    "Inference:The middle 50% Age values lies between 25 to 49"
   ]
  },
  {
   "cell_type": "markdown",
   "id": "8f858a7e",
   "metadata": {},
   "source": [
    "## Customers Having Vehicle Insurance already"
   ]
  },
  {
   "cell_type": "code",
   "execution_count": 15,
   "id": "d0fd8d55",
   "metadata": {},
   "outputs": [
    {
     "data": {
      "image/png": "[encoded data removed]",
      "text/plain": [
       "<Figure size 432x288 with 1 Axes>"
      ]
     },
     "metadata": {
      "needs_background": "light"
     },
     "output_type": "display_data"
    }
   ],
   "source": [
    "sns.countplot(df_health['Previously_Insured'])\n",
    "pct_0=str(round(df_health['Previously_Insured'].value_counts()[0]*100/len(df_health),2)) + str('%')\n",
    "pct_1=str(round(df_health['Previously_Insured'].value_counts()[1]*100/len(df_health),2)) + str('%')\n",
    "plt.text(x=-0.05,y=df_health['Previously_Insured'].value_counts()[0]/2,s=pct_0)\n",
    "plt.text(x=0.95,y=df_health['Previously_Insured'].value_counts()[1]/2,s=pct_1)\n",
    "plt.show()"
   ]
  },
  {
   "cell_type": "code",
   "execution_count": 16,
   "id": "5cd1a0dd",
   "metadata": {},
   "outputs": [
    {
     "data": {
      "text/plain": [
       "0    206481\n",
       "1    174628\n",
       "Name: Previously_Insured, dtype: int64"
      ]
     },
     "execution_count": 16,
     "metadata": {},
     "output_type": "execute_result"
    }
   ],
   "source": [
    "df_health['Previously_Insured'].value_counts()"
   ]
  },
  {
   "cell_type": "markdown",
   "id": "4e5b9899",
   "metadata": {},
   "source": [
    "Inference: 206481 customers who account to 45.82% of the data who already have vehicle insurance and 174628 customers who make upto 54.18% of data does not have Vehicle Insurance, which is significant for us."
   ]
  },
  {
   "cell_type": "markdown",
   "id": "3bb1bda5",
   "metadata": {},
   "source": [
    "## Vehicle Age"
   ]
  },
  {
   "cell_type": "code",
   "execution_count": 17,
   "id": "d0a70a94",
   "metadata": {},
   "outputs": [
    {
     "data": {
      "image/png": "[encoded data removed]",
      "text/plain": [
       "<Figure size 432x288 with 1 Axes>"
      ]
     },
     "metadata": {
      "needs_background": "light"
     },
     "output_type": "display_data"
    }
   ],
   "source": [
    "sns.countplot(df_health.Vehicle_Age)\n",
    "plt.show()"
   ]
  },
  {
   "cell_type": "markdown",
   "id": "a5568f96",
   "metadata": {},
   "source": [
    "Inference: Majority of customers present in he data have vehice which is 1 to 2 years of age, followed by people with less than a year of\n",
    "vehicle age and very few have vehicle which are more than 2 years of age. This implies the majority of the peolpe in the \n",
    "dataset have new vehicles."
   ]
  },
  {
   "cell_type": "markdown",
   "id": "fb440295",
   "metadata": {},
   "source": [
    "## Customers having damaged vehicle"
   ]
  },
  {
   "cell_type": "code",
   "execution_count": 18,
   "id": "3020ae9e",
   "metadata": {},
   "outputs": [
    {
     "data": {
      "image/png": "[encoded data removed]",
      "text/plain": [
       "<Figure size 432x288 with 1 Axes>"
      ]
     },
     "metadata": {
      "needs_background": "light"
     },
     "output_type": "display_data"
    }
   ],
   "source": [
    "sns.countplot(df_health['Vehicle_Damage'])\n",
    "pct_0=str(round(df_health['Vehicle_Damage'].value_counts()[0]*100/len(df_health),2)) + str('%')\n",
    "pct_1=str(round(df_health['Vehicle_Damage'].value_counts()[1]*100/len(df_health),2)) + str('%')\n",
    "plt.text(x=-0.05,y=df_health['Vehicle_Damage'].value_counts()[0]/2,s=pct_0)\n",
    "plt.text(x=0.95,y=df_health['Vehicle_Damage'].value_counts()[1]/2,s=pct_1)\n",
    "plt.show()"
   ]
  },
  {
   "cell_type": "markdown",
   "id": "80d2f3cf",
   "metadata": {},
   "source": [
    " Inference: The dataset contains almost equal number of people with damaged vehicle as compared to non damaged vehicle."
   ]
  },
  {
   "cell_type": "markdown",
   "id": "8cd04e00",
   "metadata": {},
   "source": [
    "# Bi-Variate Analysis"
   ]
  },
  {
   "cell_type": "markdown",
   "id": "3987abae",
   "metadata": {},
   "source": [
    "## Age vs Annual Premium"
   ]
  },
  {
   "cell_type": "code",
   "execution_count": 19,
   "id": "05a10081",
   "metadata": {},
   "outputs": [
    {
     "data": {
      "image/png": "[encoded data removed]",
      "text/plain": [
       "<Figure size 432x288 with 1 Axes>"
      ]
     },
     "metadata": {
      "needs_background": "light"
     },
     "output_type": "display_data"
    }
   ],
   "source": [
    "sns.scatterplot(x=df_health['Age'],y=df_health['Annual_Premium'])\n",
    "plt.show()"
   ]
  },
  {
   "cell_type": "markdown",
   "id": "2e21ac32",
   "metadata": {},
   "source": [
    "Inference: There is no significant relationship between Age and Annual Premium"
   ]
  },
  {
   "cell_type": "markdown",
   "id": "a21e2fb5",
   "metadata": {},
   "source": [
    "## Gender & Response"
   ]
  },
  {
   "cell_type": "code",
   "execution_count": 20,
   "id": "faa5c74e",
   "metadata": {},
   "outputs": [
    {
     "data": {
      "image/png": "[encoded data removed]",
      "text/plain": [
       "<Figure size 432x288 with 1 Axes>"
      ]
     },
     "metadata": {
      "needs_background": "light"
     },
     "output_type": "display_data"
    }
   ],
   "source": [
    "sns.countplot(df_health['Gender'],hue=df_health['Response'])\n",
    "plt.show()"
   ]
  },
  {
   "cell_type": "markdown",
   "id": "473adcc7",
   "metadata": {},
   "source": [
    "Inference: The number of Males, who have not insured their vehicle till now is more than females and same pattern is observed when\n",
    "we comapre the males and females who have already insured."
   ]
  },
  {
   "cell_type": "markdown",
   "id": "0d69a4b2",
   "metadata": {},
   "source": [
    "## Driving License By Gender"
   ]
  },
  {
   "cell_type": "code",
   "execution_count": 21,
   "id": "9c93ac77",
   "metadata": {},
   "outputs": [
    {
     "data": {
      "text/html": [
       "<div>\n",
       "<style scoped>\n",
       "    .dataframe tbody tr th:only-of-type {\n",
       "        vertical-align: middle;\n",
       "    }\n",
       "\n",
       "    .dataframe tbody tr th {\n",
       "        vertical-align: top;\n",
       "    }\n",
       "\n",
       "    .dataframe thead th {\n",
       "        text-align: right;\n",
       "    }\n",
       "</style>\n",
       "<table border=\"1\" class=\"dataframe\">\n",
       "  <thead>\n",
       "    <tr style=\"text-align: right;\">\n",
       "      <th></th>\n",
       "      <th>Gender</th>\n",
       "      <th>Driving_License</th>\n",
       "    </tr>\n",
       "  </thead>\n",
       "  <tbody>\n",
       "    <tr>\n",
       "      <th>0</th>\n",
       "      <td>Female</td>\n",
       "      <td>175020</td>\n",
       "    </tr>\n",
       "    <tr>\n",
       "      <th>1</th>\n",
       "      <td>Male</td>\n",
       "      <td>206089</td>\n",
       "    </tr>\n",
       "  </tbody>\n",
       "</table>\n",
       "</div>"
      ],
      "text/plain": [
       "   Gender  Driving_License\n",
       "0  Female           175020\n",
       "1    Male           206089"
      ]
     },
     "execution_count": 21,
     "metadata": {},
     "output_type": "execute_result"
    }
   ],
   "source": [
    "b=df_health.groupby(['Gender'])['Driving_License'].count().to_frame().reset_index()\n",
    "b"
   ]
  },
  {
   "cell_type": "code",
   "execution_count": 22,
   "id": "51e0ec73",
   "metadata": {},
   "outputs": [
    {
     "data": {
      "image/png": "[encoded data removed]",
      "text/plain": [
       "<Figure size 360x360 with 1 Axes>"
      ]
     },
     "metadata": {
      "needs_background": "light"
     },
     "output_type": "display_data"
    }
   ],
   "source": [
    "sns.catplot(x=\"Gender\", y=\"Driving_License\", data=b, kind=\"bar\");"
   ]
  },
  {
   "cell_type": "markdown",
   "id": "97061de0",
   "metadata": {},
   "source": [
    "Inference: Number of Males having driving Licences is more as compared to those of Females."
   ]
  },
  {
   "cell_type": "markdown",
   "id": "1cca6192",
   "metadata": {},
   "source": [
    "## Customers Having Vehicle Insurance already vs Gender"
   ]
  },
  {
   "cell_type": "code",
   "execution_count": 23,
   "id": "b4593840",
   "metadata": {},
   "outputs": [
    {
     "data": {
      "text/html": [
       "<div>\n",
       "<style scoped>\n",
       "    .dataframe tbody tr th:only-of-type {\n",
       "        vertical-align: middle;\n",
       "    }\n",
       "\n",
       "    .dataframe tbody tr th {\n",
       "        vertical-align: top;\n",
       "    }\n",
       "\n",
       "    .dataframe thead th {\n",
       "        text-align: right;\n",
       "    }\n",
       "</style>\n",
       "<table border=\"1\" class=\"dataframe\">\n",
       "  <thead>\n",
       "    <tr style=\"text-align: right;\">\n",
       "      <th>Gender</th>\n",
       "      <th>Female</th>\n",
       "      <th>Male</th>\n",
       "    </tr>\n",
       "    <tr>\n",
       "      <th>Previously_Insured</th>\n",
       "      <th></th>\n",
       "      <th></th>\n",
       "    </tr>\n",
       "  </thead>\n",
       "  <tbody>\n",
       "    <tr>\n",
       "      <th>0</th>\n",
       "      <td>87071</td>\n",
       "      <td>119410</td>\n",
       "    </tr>\n",
       "    <tr>\n",
       "      <th>1</th>\n",
       "      <td>87949</td>\n",
       "      <td>86679</td>\n",
       "    </tr>\n",
       "  </tbody>\n",
       "</table>\n",
       "</div>"
      ],
      "text/plain": [
       "Gender              Female    Male\n",
       "Previously_Insured                \n",
       "0                    87071  119410\n",
       "1                    87949   86679"
      ]
     },
     "execution_count": 23,
     "metadata": {},
     "output_type": "execute_result"
    }
   ],
   "source": [
    "df_plot = df_health.groupby(['Previously_Insured', 'Gender']).size().reset_index().pivot(columns='Gender', index='Previously_Insured', values=0)\n",
    "df_plot"
   ]
  },
  {
   "cell_type": "code",
   "execution_count": 24,
   "id": "9d07f36f",
   "metadata": {},
   "outputs": [
    {
     "data": {
      "image/png": "[encoded data removed]",
      "text/plain": [
       "<Figure size 432x288 with 1 Axes>"
      ]
     },
     "metadata": {
      "needs_background": "light"
     },
     "output_type": "display_data"
    }
   ],
   "source": [
    "df_plot.plot(kind='bar',stacked=True)\n",
    "plt.show()"
   ]
  },
  {
   "cell_type": "markdown",
   "id": "2592376c",
   "metadata": {},
   "source": [
    "Inference: The number of females who have previously taken and not taken insurance is almost same and the number of males who have previously not taken insurance is significantly more, which becomes the potential customer base for cross-selling\n",
    "vehicle insurance."
   ]
  },
  {
   "cell_type": "markdown",
   "id": "e1ff8c56",
   "metadata": {},
   "source": [
    "## Age vs Vehicle_Damage"
   ]
  },
  {
   "cell_type": "code",
   "execution_count": 27,
   "id": "3ab65fed",
   "metadata": {},
   "outputs": [
    {
     "data": {
      "image/png": "[encoded data removed]",
      "text/plain": [
       "<Figure size 432x288 with 1 Axes>"
      ]
     },
     "metadata": {
      "needs_background": "light"
     },
     "output_type": "display_data"
    }
   ],
   "source": [
    "sns.countplot(df_health['Vehicle_Age'],hue=df_health['Vehicle_Damage'])\n",
    "plt.show()"
   ]
  },
  {
   "cell_type": "markdown",
   "id": "fe3cd024",
   "metadata": {},
   "source": [
    "Inference: The majority of vehicles which are less than 1 year are not damaged\n",
    "\n",
    "The vehicles which has >2 years age are almost damaged vehicles\n",
    "\n",
    "The majority of vehicles which has 1-2 years of age are damaged vehicles."
   ]
  },
  {
   "cell_type": "markdown",
   "id": "7524057d",
   "metadata": {},
   "source": [
    "# Multi-Variate Analysis"
   ]
  },
  {
   "cell_type": "markdown",
   "id": "6617a432",
   "metadata": {},
   "source": [
    "## Annual Premium"
   ]
  },
  {
   "cell_type": "code",
   "execution_count": 31,
   "id": "37884ee2",
   "metadata": {},
   "outputs": [
    {
     "data": {
      "image/png": "[encoded data removed]",
      "text/plain": [
       "<Figure size 432x288 with 1 Axes>"
      ]
     },
     "metadata": {
      "needs_background": "light"
     },
     "output_type": "display_data"
    }
   ],
   "source": [
    "sns.scatterplot(x='Annual_Premium',y='Age',hue='Response',data=df_health)\n",
    "plt.show()"
   ]
  },
  {
   "cell_type": "markdown",
   "id": "c723834c",
   "metadata": {},
   "source": [
    "Inference: Most of the people have annual premium less than 1.5 lakhs\n",
    "\n",
    "Majority of people interested in vehicle insurance also have annual premium less than 1.5 lakhs."
   ]
  },
  {
   "cell_type": "markdown",
   "id": "ec75079c",
   "metadata": {},
   "source": [
    "# Data Preparation"
   ]
  },
  {
   "cell_type": "markdown",
   "id": "44ba2ad7",
   "metadata": {},
   "source": [
    "## Drop the redundant feature"
   ]
  },
  {
   "cell_type": "code",
   "execution_count": 32,
   "id": "3d7d8321",
   "metadata": {},
   "outputs": [],
   "source": [
    "df_health=df_health.drop('id',axis=1)"
   ]
  },
  {
   "cell_type": "markdown",
   "id": "8e9eae75",
   "metadata": {},
   "source": [
    "Inference: Now, the column ‘Id’ has dropped"
   ]
  },
  {
   "cell_type": "markdown",
   "id": "6862baf5",
   "metadata": {},
   "source": [
    "## Treating Outliers"
   ]
  },
  {
   "cell_type": "code",
   "execution_count": 33,
   "id": "a3fe1fa2",
   "metadata": {},
   "outputs": [
    {
     "data": {
      "text/plain": [
       "<AxesSubplot:>"
      ]
     },
     "execution_count": 33,
     "metadata": {},
     "output_type": "execute_result"
    },
    {
     "data": {
      "image/png": "[encoded data removed]",
      "text/plain": [
       "<Figure size 1152x576 with 1 Axes>"
      ]
     },
     "metadata": {
      "needs_background": "light"
     },
     "output_type": "display_data"
    }
   ],
   "source": [
    "df_num=df_health.select_dtypes('number').drop('Response',axis=1)\n",
    "df_num.boxplot(figsize=(16,8))"
   ]
  },
  {
   "cell_type": "code",
   "execution_count": 34,
   "id": "0578c7e0",
   "metadata": {},
   "outputs": [
    {
     "data": {
      "text/plain": [
       "(370789, 11)"
      ]
     },
     "execution_count": 34,
     "metadata": {},
     "output_type": "execute_result"
    }
   ],
   "source": [
    "Q1 = df_health['Annual_Premium'].quantile(0.25)\n",
    "\n",
    "Q3 = df_health['Annual_Premium'].quantile(0.75)\n",
    "\n",
    "IQR = Q3 - Q1\n",
    "\n",
    "df_health = df_health[~((df_health['Annual_Premium'] < (Q1 - 1.5 * IQR)) | (df_health['Annual_Premium'] > (Q3 + 1.5 * IQR)))]\n",
    "\n",
    "# check the shape of the data\n",
    "df_health.shape"
   ]
  },
  {
   "cell_type": "code",
   "execution_count": 35,
   "id": "23180aaf",
   "metadata": {},
   "outputs": [
    {
     "data": {
      "text/plain": [
       "<AxesSubplot:xlabel='Annual_Premium'>"
      ]
     },
     "execution_count": 35,
     "metadata": {},
     "output_type": "execute_result"
    },
    {
     "data": {
      "image/png": "[encoded data removed]",
      "text/plain": [
       "<Figure size 432x288 with 1 Axes>"
      ]
     },
     "metadata": {
      "needs_background": "light"
     },
     "output_type": "display_data"
    }
   ],
   "source": [
    "sns.boxplot(df_health['Annual_Premium'])"
   ]
  },
  {
   "cell_type": "markdown",
   "id": "870e28be",
   "metadata": {},
   "source": [
    "Inference: We have treated the outliers using IQR method"
   ]
  },
  {
   "cell_type": "markdown",
   "id": "ae3875f8",
   "metadata": {},
   "source": [
    "# Basic Model"
   ]
  },
  {
   "cell_type": "markdown",
   "id": "c0f63932",
   "metadata": {},
   "source": [
    "## Logistic Regression model from StatsModel(sm)"
   ]
  },
  {
   "cell_type": "code",
   "execution_count": 36,
   "id": "74c00cba",
   "metadata": {
    "scrolled": false
   },
   "outputs": [
    {
     "name": "stdout",
     "output_type": "stream",
     "text": [
      "Optimization terminated successfully.\n",
      "         Current function value: 0.274568\n",
      "         Iterations 11\n"
     ]
    },
    {
     "data": {
      "text/html": [
       "<table class=\"simpletable\">\n",
       "<caption>Logit Regression Results</caption>\n",
       "<tr>\n",
       "  <th>Dep. Variable:</th>       <td>Response</td>     <th>  No. Observations:  </th>   <td>296631</td>   \n",
       "</tr>\n",
       "<tr>\n",
       "  <th>Model:</th>                 <td>Logit</td>      <th>  Df Residuals:      </th>   <td>296620</td>   \n",
       "</tr>\n",
       "<tr>\n",
       "  <th>Method:</th>                 <td>MLE</td>       <th>  Df Model:          </th>   <td>    10</td>   \n",
       "</tr>\n",
       "<tr>\n",
       "  <th>Date:</th>            <td>Sun, 22 May 2022</td> <th>  Pseudo R-squ.:     </th>   <td>0.2595</td>   \n",
       "</tr>\n",
       "<tr>\n",
       "  <th>Time:</th>                <td>18:14:25</td>     <th>  Log-Likelihood:    </th>  <td> -81446.</td>  \n",
       "</tr>\n",
       "<tr>\n",
       "  <th>converged:</th>             <td>True</td>       <th>  LL-Null:           </th> <td>-1.0998e+05</td>\n",
       "</tr>\n",
       "<tr>\n",
       "  <th>Covariance Type:</th>     <td>nonrobust</td>    <th>  LLR p-value:       </th>   <td> 0.000</td>   \n",
       "</tr>\n",
       "</table>\n",
       "<table class=\"simpletable\">\n",
       "<tr>\n",
       "            <td></td>               <th>coef</th>     <th>std err</th>      <th>z</th>      <th>P>|z|</th>  <th>[0.025</th>    <th>0.975]</th>  \n",
       "</tr>\n",
       "<tr>\n",
       "  <th>Age</th>                   <td>   -0.0289</td> <td>    0.001</td> <td>  -49.021</td> <td> 0.000</td> <td>   -0.030</td> <td>   -0.028</td>\n",
       "</tr>\n",
       "<tr>\n",
       "  <th>Region_Code</th>           <td>   -0.0017</td> <td>    0.000</td> <td>   -3.570</td> <td> 0.000</td> <td>   -0.003</td> <td>   -0.001</td>\n",
       "</tr>\n",
       "<tr>\n",
       "  <th>Annual_Premium</th>        <td>  2.18e-06</td> <td> 3.99e-07</td> <td>    5.470</td> <td> 0.000</td> <td>  1.4e-06</td> <td> 2.96e-06</td>\n",
       "</tr>\n",
       "<tr>\n",
       "  <th>Policy_Sales_Channel</th>  <td>   -0.0027</td> <td>    0.000</td> <td>  -22.272</td> <td> 0.000</td> <td>   -0.003</td> <td>   -0.002</td>\n",
       "</tr>\n",
       "<tr>\n",
       "  <th>Vintage</th>               <td>   -0.0002</td> <td>  7.3e-05</td> <td>   -2.750</td> <td> 0.006</td> <td>   -0.000</td> <td>-5.77e-05</td>\n",
       "</tr>\n",
       "<tr>\n",
       "  <th>Gender_Male</th>           <td>    0.0729</td> <td>    0.013</td> <td>    5.787</td> <td> 0.000</td> <td>    0.048</td> <td>    0.098</td>\n",
       "</tr>\n",
       "<tr>\n",
       "  <th>Driving_License_1</th>     <td>   -1.2154</td> <td>    0.046</td> <td>  -26.312</td> <td> 0.000</td> <td>   -1.306</td> <td>   -1.125</td>\n",
       "</tr>\n",
       "<tr>\n",
       "  <th>Previously_Insured_1</th>  <td>   -4.0711</td> <td>    0.092</td> <td>  -44.321</td> <td> 0.000</td> <td>   -4.251</td> <td>   -3.891</td>\n",
       "</tr>\n",
       "<tr>\n",
       "  <th>Vehicle_Age_< 1 Year</th>  <td>   -1.2386</td> <td>    0.021</td> <td>  -59.383</td> <td> 0.000</td> <td>   -1.279</td> <td>   -1.198</td>\n",
       "</tr>\n",
       "<tr>\n",
       "  <th>Vehicle_Age_> 2 Years</th> <td>    0.2116</td> <td>    0.022</td> <td>    9.606</td> <td> 0.000</td> <td>    0.168</td> <td>    0.255</td>\n",
       "</tr>\n",
       "<tr>\n",
       "  <th>Vehicle_Damage_Yes</th>    <td>    1.8356</td> <td>    0.034</td> <td>   53.567</td> <td> 0.000</td> <td>    1.768</td> <td>    1.903</td>\n",
       "</tr>\n",
       "</table>"
      ],
      "text/plain": [
       "<class 'statsmodels.iolib.summary.Summary'>\n",
       "\"\"\"\n",
       "                           Logit Regression Results                           \n",
       "==============================================================================\n",
       "Dep. Variable:               Response   No. Observations:               296631\n",
       "Model:                          Logit   Df Residuals:                   296620\n",
       "Method:                           MLE   Df Model:                           10\n",
       "Date:                Sun, 22 May 2022   Pseudo R-squ.:                  0.2595\n",
       "Time:                        18:14:25   Log-Likelihood:                -81446.\n",
       "converged:                       True   LL-Null:                   -1.0998e+05\n",
       "Covariance Type:            nonrobust   LLR p-value:                     0.000\n",
       "=========================================================================================\n",
       "                            coef    std err          z      P>|z|      [0.025      0.975]\n",
       "-----------------------------------------------------------------------------------------\n",
       "Age                      -0.0289      0.001    -49.021      0.000      -0.030      -0.028\n",
       "Region_Code              -0.0017      0.000     -3.570      0.000      -0.003      -0.001\n",
       "Annual_Premium          2.18e-06   3.99e-07      5.470      0.000     1.4e-06    2.96e-06\n",
       "Policy_Sales_Channel     -0.0027      0.000    -22.272      0.000      -0.003      -0.002\n",
       "Vintage                  -0.0002    7.3e-05     -2.750      0.006      -0.000   -5.77e-05\n",
       "Gender_Male               0.0729      0.013      5.787      0.000       0.048       0.098\n",
       "Driving_License_1        -1.2154      0.046    -26.312      0.000      -1.306      -1.125\n",
       "Previously_Insured_1     -4.0711      0.092    -44.321      0.000      -4.251      -3.891\n",
       "Vehicle_Age_< 1 Year     -1.2386      0.021    -59.383      0.000      -1.279      -1.198\n",
       "Vehicle_Age_> 2 Years     0.2116      0.022      9.606      0.000       0.168       0.255\n",
       "Vehicle_Damage_Yes        1.8356      0.034     53.567      0.000       1.768       1.903\n",
       "=========================================================================================\n",
       "\"\"\""
      ]
     },
     "execution_count": 36,
     "metadata": {},
     "output_type": "execute_result"
    }
   ],
   "source": [
    "df_num=df_health.select_dtypes('number').drop('Response',axis=1)\n",
    "df_obj=df_health.select_dtypes('object')\n",
    "\n",
    "encode=pd.get_dummies(df_obj,drop_first=True)\n",
    "\n",
    "\n",
    "X=pd.concat([df_num,encode],axis=1)\n",
    "\n",
    "y=df_health['Response']\n",
    "\n",
    "X_train,X_test,y_train,y_test=train_test_split(X,y,random_state=1,test_size=0.2)\n",
    "\n",
    "SS=StandardScaler()\n",
    "scaling=SS.fit_transform(X_train,y_train)\n",
    "#scaling_y=SS.transform(X_test,y_test)\n",
    "\n",
    "model_no_intercept=sm.Logit(y_train,X_train).fit()\n",
    "model_no_intercept.summary()"
   ]
  },
  {
   "cell_type": "markdown",
   "id": "d000262c",
   "metadata": {},
   "source": [
    "Here,LLR-P val <0.05, So we can say that this is a significant model."
   ]
  },
  {
   "cell_type": "markdown",
   "id": "11668e5f",
   "metadata": {},
   "source": [
    "## Logistic Regression model from Sklearn library"
   ]
  },
  {
   "cell_type": "code",
   "execution_count": 37,
   "id": "6a1ff8aa",
   "metadata": {},
   "outputs": [],
   "source": [
    "log_reg=LogisticRegression()\n",
    "model_full=log_reg.fit(X_train,y_train)"
   ]
  },
  {
   "cell_type": "code",
   "execution_count": 38,
   "id": "e720f7e1",
   "metadata": {},
   "outputs": [
    {
     "name": "stdout",
     "output_type": "stream",
     "text": [
      "86.85 %\n"
     ]
    }
   ],
   "source": [
    "y_pred_prob=model_full.predict(X_test)\n",
    "y_pred=[0 if x<0.5 else 1 for x in y_pred_prob]\n",
    "\n",
    "accuracy=accuracy_score(y_pred,y_test)\n",
    "print(round(accuracy*100,2),'%')"
   ]
  },
  {
   "cell_type": "code",
   "execution_count": 39,
   "id": "5b0d1dc7",
   "metadata": {},
   "outputs": [
    {
     "name": "stdout",
     "output_type": "stream",
     "text": [
      "              precision    recall  f1-score   support\n",
      "\n",
      "           0       0.88      0.98      0.93     65173\n",
      "           1       0.25      0.04      0.07      8985\n",
      "\n",
      "    accuracy                           0.87     74158\n",
      "   macro avg       0.57      0.51      0.50     74158\n",
      "weighted avg       0.81      0.87      0.83     74158\n",
      "\n"
     ]
    }
   ],
   "source": [
    "classifi_report=classification_report(y_test,y_pred)\n",
    "print(classifi_report)"
   ]
  },
  {
   "cell_type": "markdown",
   "id": "7fda96a4",
   "metadata": {},
   "source": [
    "In the Classification Report, the scores of Precision,Recall and F1score for Target 0 is very higher than Target 1.It seems it a highly imbalanced dataset.By using SMOTE tecnique, we can balance the dataset.\n"
   ]
  },
  {
   "cell_type": "markdown",
   "id": "a3079cb1",
   "metadata": {},
   "source": [
    "## Confusion matrix"
   ]
  },
  {
   "cell_type": "code",
   "execution_count": 40,
   "id": "0ed40d00",
   "metadata": {},
   "outputs": [
    {
     "data": {
      "text/plain": [
       "<AxesSubplot:>"
      ]
     },
     "execution_count": 40,
     "metadata": {},
     "output_type": "execute_result"
    },
    {
     "data": {
      "image/png": "[encoded data removed]",
      "text/plain": [
       "<Figure size 432x288 with 2 Axes>"
      ]
     },
     "metadata": {
      "needs_background": "light"
     },
     "output_type": "display_data"
    }
   ],
   "source": [
    "cm=confusion_matrix(y_test,y_pred)\n",
    "sns.heatmap(cm,annot=True,xticklabels=['Predicted 0','Predicted 1'],yticklabels=['Actual 0','Actual 1'],fmt='.2f')"
   ]
  },
  {
   "cell_type": "markdown",
   "id": "13c7e24b",
   "metadata": {},
   "source": [
    "Here, True Negative values are very higher than True Positive values and also False Negative values are higher than False Postitve values. "
   ]
  },
  {
   "cell_type": "markdown",
   "id": "1798ef26",
   "metadata": {},
   "source": [
    "### Percentage of imbalanced data"
   ]
  },
  {
   "cell_type": "code",
   "execution_count": 41,
   "id": "39072053",
   "metadata": {},
   "outputs": [
    {
     "name": "stdout",
     "output_type": "stream",
     "text": [
      "Percent for Target Variable 0: 88.0%\n",
      "Percent for Target Variable 1: 12.0%\n"
     ]
    }
   ],
   "source": [
    "per_0=str(round(df_health['Response'].value_counts()[0]/df_health['Response'].count(),2)*100) + str('%')\n",
    "per_1=str(round(df_health['Response'].value_counts()[1]/df_health['Response'].count(),2)*100) + str('%')\n",
    "\n",
    "print('Percent for Target Variable 0:',per_0)\n",
    "print('Percent for Target Variable 1:',per_1)"
   ]
  },
  {
   "cell_type": "markdown",
   "id": "f16d59d0",
   "metadata": {},
   "source": [
    "This dataset has been highly imbalanced.SO, treating imbalanced dataset by using SMOTE technique to make a balanced dataset."
   ]
  },
  {
   "cell_type": "code",
   "execution_count": 42,
   "id": "354d17ca",
   "metadata": {},
   "outputs": [
    {
     "name": "stdout",
     "output_type": "stream",
     "text": [
      "Imbalanced data(Response): Counter({0: 325634, 1: 45155})\n",
      "Balanced data by using SMOTE: Counter({0: 325634, 1: 260507})\n"
     ]
    }
   ],
   "source": [
    "smt = SMOTE(random_state=42,sampling_strategy=0.8)\n",
    "X_res, y_res = smt.fit_resample(X, y)\n",
    "\n",
    "print('Imbalanced data(Response):',Counter(y))\n",
    "print('Balanced data by using SMOTE:',Counter(y_res))"
   ]
  },
  {
   "cell_type": "markdown",
   "id": "260460fb",
   "metadata": {},
   "source": [
    "### Percentage of balanced data"
   ]
  },
  {
   "cell_type": "code",
   "execution_count": 43,
   "id": "32f8a631",
   "metadata": {},
   "outputs": [
    {
     "name": "stdout",
     "output_type": "stream",
     "text": [
      "Percent for Target Variable 0: 88.0%\n",
      "Percent for Target Variable 1: 70.0%\n"
     ]
    }
   ],
   "source": [
    "per_0=str(round(y_res.value_counts()[0]/df_health['Response'].count(),2)*100) + str('%')\n",
    "per_1=str(round(y_res.value_counts()[1]/df_health['Response'].count(),2)*100) + str('%')\n",
    "\n",
    "print('Percent for Target Variable 0:',per_0)\n",
    "print('Percent for Target Variable 1:',per_1)"
   ]
  },
  {
   "cell_type": "markdown",
   "id": "d725c2b9",
   "metadata": {},
   "source": [
    "## Model after balancing data"
   ]
  },
  {
   "cell_type": "code",
   "execution_count": 44,
   "id": "ce2f2fea",
   "metadata": {
    "scrolled": false
   },
   "outputs": [
    {
     "name": "stdout",
     "output_type": "stream",
     "text": [
      "Optimization terminated successfully.\n",
      "         Current function value: 0.404924\n",
      "         Iterations 11\n"
     ]
    },
    {
     "data": {
      "text/html": [
       "<table class=\"simpletable\">\n",
       "<caption>Logit Regression Results</caption>\n",
       "<tr>\n",
       "  <th>Dep. Variable:</th>       <td>Response</td>     <th>  No. Observations:  </th>   <td>468912</td>   \n",
       "</tr>\n",
       "<tr>\n",
       "  <th>Model:</th>                 <td>Logit</td>      <th>  Df Residuals:      </th>   <td>468901</td>   \n",
       "</tr>\n",
       "<tr>\n",
       "  <th>Method:</th>                 <td>MLE</td>       <th>  Df Model:          </th>   <td>    10</td>   \n",
       "</tr>\n",
       "<tr>\n",
       "  <th>Date:</th>            <td>Sun, 22 May 2022</td> <th>  Pseudo R-squ.:     </th>   <td>0.4106</td>   \n",
       "</tr>\n",
       "<tr>\n",
       "  <th>Time:</th>                <td>18:14:59</td>     <th>  Log-Likelihood:    </th> <td>-1.8987e+05</td>\n",
       "</tr>\n",
       "<tr>\n",
       "  <th>converged:</th>             <td>True</td>       <th>  LL-Null:           </th> <td>-3.2213e+05</td>\n",
       "</tr>\n",
       "<tr>\n",
       "  <th>Covariance Type:</th>     <td>nonrobust</td>    <th>  LLR p-value:       </th>   <td> 0.000</td>   \n",
       "</tr>\n",
       "</table>\n",
       "<table class=\"simpletable\">\n",
       "<tr>\n",
       "            <td></td>               <th>coef</th>     <th>std err</th>      <th>z</th>      <th>P>|z|</th>  <th>[0.025</th>    <th>0.975]</th>  \n",
       "</tr>\n",
       "<tr>\n",
       "  <th>Age</th>                   <td>   -0.0401</td> <td>    0.000</td> <td> -100.144</td> <td> 0.000</td> <td>   -0.041</td> <td>   -0.039</td>\n",
       "</tr>\n",
       "<tr>\n",
       "  <th>Region_Code</th>           <td>    0.0006</td> <td>    0.000</td> <td>    1.727</td> <td> 0.084</td> <td>-7.87e-05</td> <td>    0.001</td>\n",
       "</tr>\n",
       "<tr>\n",
       "  <th>Annual_Premium</th>        <td> 3.699e-06</td> <td> 2.57e-07</td> <td>   14.412</td> <td> 0.000</td> <td>  3.2e-06</td> <td>  4.2e-06</td>\n",
       "</tr>\n",
       "<tr>\n",
       "  <th>Policy_Sales_Channel</th>  <td>   -0.0022</td> <td> 8.09e-05</td> <td>  -26.744</td> <td> 0.000</td> <td>   -0.002</td> <td>   -0.002</td>\n",
       "</tr>\n",
       "<tr>\n",
       "  <th>Vintage</th>               <td>-2.315e-05</td> <td> 4.74e-05</td> <td>   -0.488</td> <td> 0.625</td> <td>   -0.000</td> <td> 6.98e-05</td>\n",
       "</tr>\n",
       "<tr>\n",
       "  <th>Gender_Male</th>           <td>   -0.6747</td> <td>    0.008</td> <td>  -84.424</td> <td> 0.000</td> <td>   -0.690</td> <td>   -0.659</td>\n",
       "</tr>\n",
       "<tr>\n",
       "  <th>Driving_License_1</th>     <td>    1.8356</td> <td>    0.029</td> <td>   64.117</td> <td> 0.000</td> <td>    1.780</td> <td>    1.892</td>\n",
       "</tr>\n",
       "<tr>\n",
       "  <th>Previously_Insured_1</th>  <td>   -5.9651</td> <td>    0.088</td> <td>  -67.863</td> <td> 0.000</td> <td>   -6.137</td> <td>   -5.793</td>\n",
       "</tr>\n",
       "<tr>\n",
       "  <th>Vehicle_Age_< 1 Year</th>  <td>   -2.4486</td> <td>    0.014</td> <td> -176.501</td> <td> 0.000</td> <td>   -2.476</td> <td>   -2.421</td>\n",
       "</tr>\n",
       "<tr>\n",
       "  <th>Vehicle_Age_> 2 Years</th> <td>   -0.9835</td> <td>    0.018</td> <td>  -53.802</td> <td> 0.000</td> <td>   -1.019</td> <td>   -0.948</td>\n",
       "</tr>\n",
       "<tr>\n",
       "  <th>Vehicle_Damage_Yes</th>    <td>    1.4004</td> <td>    0.015</td> <td>   90.969</td> <td> 0.000</td> <td>    1.370</td> <td>    1.431</td>\n",
       "</tr>\n",
       "</table>"
      ],
      "text/plain": [
       "<class 'statsmodels.iolib.summary.Summary'>\n",
       "\"\"\"\n",
       "                           Logit Regression Results                           \n",
       "==============================================================================\n",
       "Dep. Variable:               Response   No. Observations:               468912\n",
       "Model:                          Logit   Df Residuals:                   468901\n",
       "Method:                           MLE   Df Model:                           10\n",
       "Date:                Sun, 22 May 2022   Pseudo R-squ.:                  0.4106\n",
       "Time:                        18:14:59   Log-Likelihood:            -1.8987e+05\n",
       "converged:                       True   LL-Null:                   -3.2213e+05\n",
       "Covariance Type:            nonrobust   LLR p-value:                     0.000\n",
       "=========================================================================================\n",
       "                            coef    std err          z      P>|z|      [0.025      0.975]\n",
       "-----------------------------------------------------------------------------------------\n",
       "Age                      -0.0401      0.000   -100.144      0.000      -0.041      -0.039\n",
       "Region_Code               0.0006      0.000      1.727      0.084   -7.87e-05       0.001\n",
       "Annual_Premium         3.699e-06   2.57e-07     14.412      0.000     3.2e-06     4.2e-06\n",
       "Policy_Sales_Channel     -0.0022   8.09e-05    -26.744      0.000      -0.002      -0.002\n",
       "Vintage               -2.315e-05   4.74e-05     -0.488      0.625      -0.000    6.98e-05\n",
       "Gender_Male              -0.6747      0.008    -84.424      0.000      -0.690      -0.659\n",
       "Driving_License_1         1.8356      0.029     64.117      0.000       1.780       1.892\n",
       "Previously_Insured_1     -5.9651      0.088    -67.863      0.000      -6.137      -5.793\n",
       "Vehicle_Age_< 1 Year     -2.4486      0.014   -176.501      0.000      -2.476      -2.421\n",
       "Vehicle_Age_> 2 Years    -0.9835      0.018    -53.802      0.000      -1.019      -0.948\n",
       "Vehicle_Damage_Yes        1.4004      0.015     90.969      0.000       1.370       1.431\n",
       "=========================================================================================\n",
       "\"\"\""
      ]
     },
     "execution_count": 44,
     "metadata": {},
     "output_type": "execute_result"
    }
   ],
   "source": [
    "#model-1\n",
    "df_num=df_health.select_dtypes('number').drop('Response',axis=1)\n",
    "df_obj=df_health.select_dtypes('object')\n",
    "\n",
    "encode=pd.get_dummies(df_obj,drop_first=True)\n",
    "\n",
    "\n",
    "X1=pd.concat([df_num,encode],axis=1)\n",
    "\n",
    "y=df_health['Response']\n",
    "\n",
    "X1_train,X1_test,y1_train,y1_test=train_test_split(X_res,y_res,random_state=1,test_size=0.2)\n",
    "\n",
    "SS=StandardScaler()\n",
    "scaling=SS.fit_transform(X1_train,y1_train)\n",
    "#scaling_y=SS.transform(X_test,y_test)\n",
    "\n",
    "model_no_intercept=sm.Logit(y1_train,X1_train).fit()\n",
    "model_no_intercept.summary()"
   ]
  },
  {
   "cell_type": "markdown",
   "id": "ee80d18e",
   "metadata": {},
   "source": [
    "After balancing data, Pseudo R-square has been increased from 26% to 41%."
   ]
  },
  {
   "cell_type": "code",
   "execution_count": 45,
   "id": "31649f07",
   "metadata": {},
   "outputs": [],
   "source": [
    "#Model-2\n",
    "log_reg=LogisticRegression()\n",
    "model_full=log_reg.fit(X1_train,y1_train)"
   ]
  },
  {
   "cell_type": "code",
   "execution_count": 46,
   "id": "bb3f3823",
   "metadata": {},
   "outputs": [
    {
     "name": "stdout",
     "output_type": "stream",
     "text": [
      "58.88 %\n"
     ]
    }
   ],
   "source": [
    "y_pred=model_full.predict(X1_test)\n",
    "\n",
    "accuracy=accuracy_score(y_pred,y1_test)\n",
    "print(round(accuracy*100,2),'%')"
   ]
  },
  {
   "cell_type": "code",
   "execution_count": 47,
   "id": "a64ef081",
   "metadata": {},
   "outputs": [
    {
     "name": "stdout",
     "output_type": "stream",
     "text": [
      "              precision    recall  f1-score   support\n",
      "\n",
      "           0       0.61      0.74      0.67     65164\n",
      "           1       0.55      0.40      0.46     52065\n",
      "\n",
      "    accuracy                           0.59    117229\n",
      "   macro avg       0.58      0.57      0.56    117229\n",
      "weighted avg       0.58      0.59      0.58    117229\n",
      "\n"
     ]
    }
   ],
   "source": [
    "classifi_report=classification_report(y1_test,y_pred)\n",
    "print(classifi_report)"
   ]
  },
  {
   "cell_type": "markdown",
   "id": "1f51667b",
   "metadata": {},
   "source": [
    "Now, the model is working well for both Target variable 0 and Target variable 1.Then,we can try multipe models by using ensemble techniques,and select the model with whichever gives higher accuracy."
   ]
  },
  {
   "cell_type": "markdown",
   "id": "2b04071c",
   "metadata": {},
   "source": [
    "## Finding Optimal Threshold"
   ]
  },
  {
   "cell_type": "code",
   "execution_count": 48,
   "id": "21530429",
   "metadata": {},
   "outputs": [
    {
     "data": {
      "text/html": [
       "<div>\n",
       "<style scoped>\n",
       "    .dataframe tbody tr th:only-of-type {\n",
       "        vertical-align: middle;\n",
       "    }\n",
       "\n",
       "    .dataframe tbody tr th {\n",
       "        vertical-align: top;\n",
       "    }\n",
       "\n",
       "    .dataframe thead th {\n",
       "        text-align: right;\n",
       "    }\n",
       "</style>\n",
       "<table border=\"1\" class=\"dataframe\">\n",
       "  <thead>\n",
       "    <tr style=\"text-align: right;\">\n",
       "      <th></th>\n",
       "      <th>TPR</th>\n",
       "      <th>FPR</th>\n",
       "      <th>Threshold</th>\n",
       "      <th>Difference</th>\n",
       "    </tr>\n",
       "  </thead>\n",
       "  <tbody>\n",
       "    <tr>\n",
       "      <th>0</th>\n",
       "      <td>0.874830</td>\n",
       "      <td>0.255064</td>\n",
       "      <td>0.488700</td>\n",
       "      <td>0.619765</td>\n",
       "    </tr>\n",
       "    <tr>\n",
       "      <th>1</th>\n",
       "      <td>0.874791</td>\n",
       "      <td>0.255049</td>\n",
       "      <td>0.488781</td>\n",
       "      <td>0.619742</td>\n",
       "    </tr>\n",
       "    <tr>\n",
       "      <th>2</th>\n",
       "      <td>0.874657</td>\n",
       "      <td>0.254926</td>\n",
       "      <td>0.489261</td>\n",
       "      <td>0.619731</td>\n",
       "    </tr>\n",
       "    <tr>\n",
       "      <th>3</th>\n",
       "      <td>0.874791</td>\n",
       "      <td>0.255064</td>\n",
       "      <td>0.488772</td>\n",
       "      <td>0.619727</td>\n",
       "    </tr>\n",
       "    <tr>\n",
       "      <th>4</th>\n",
       "      <td>0.874849</td>\n",
       "      <td>0.255126</td>\n",
       "      <td>0.488604</td>\n",
       "      <td>0.619723</td>\n",
       "    </tr>\n",
       "    <tr>\n",
       "      <th>5</th>\n",
       "      <td>0.875214</td>\n",
       "      <td>0.255494</td>\n",
       "      <td>0.487862</td>\n",
       "      <td>0.619720</td>\n",
       "    </tr>\n",
       "    <tr>\n",
       "      <th>6</th>\n",
       "      <td>0.874676</td>\n",
       "      <td>0.254957</td>\n",
       "      <td>0.489190</td>\n",
       "      <td>0.619719</td>\n",
       "    </tr>\n",
       "    <tr>\n",
       "      <th>7</th>\n",
       "      <td>0.874830</td>\n",
       "      <td>0.255126</td>\n",
       "      <td>0.488637</td>\n",
       "      <td>0.619704</td>\n",
       "    </tr>\n",
       "    <tr>\n",
       "      <th>8</th>\n",
       "      <td>0.874734</td>\n",
       "      <td>0.255033</td>\n",
       "      <td>0.488890</td>\n",
       "      <td>0.619700</td>\n",
       "    </tr>\n",
       "    <tr>\n",
       "      <th>9</th>\n",
       "      <td>0.874657</td>\n",
       "      <td>0.254957</td>\n",
       "      <td>0.489190</td>\n",
       "      <td>0.619700</td>\n",
       "    </tr>\n",
       "  </tbody>\n",
       "</table>\n",
       "</div>"
      ],
      "text/plain": [
       "        TPR       FPR  Threshold  Difference\n",
       "0  0.874830  0.255064   0.488700    0.619765\n",
       "1  0.874791  0.255049   0.488781    0.619742\n",
       "2  0.874657  0.254926   0.489261    0.619731\n",
       "3  0.874791  0.255064   0.488772    0.619727\n",
       "4  0.874849  0.255126   0.488604    0.619723\n",
       "5  0.875214  0.255494   0.487862    0.619720\n",
       "6  0.874676  0.254957   0.489190    0.619719\n",
       "7  0.874830  0.255126   0.488637    0.619704\n",
       "8  0.874734  0.255033   0.488890    0.619700\n",
       "9  0.874657  0.254957   0.489190    0.619700"
      ]
     },
     "execution_count": 48,
     "metadata": {},
     "output_type": "execute_result"
    }
   ],
   "source": [
    "#finding optimal threshold by using Youden's Index\n",
    "y_pred_prob=model_no_intercept.predict(X1_test)\n",
    "fpr,tpr,threshold=roc_curve(y1_test,y_pred_prob)\n",
    "youden_table=pd.DataFrame()\n",
    "youden_table['TPR']=tpr\n",
    "youden_table['FPR']=fpr\n",
    "youden_table['Threshold']=threshold\n",
    "youden_table['Difference']=youden_table['TPR']-youden_table['FPR']\n",
    "youden_table.sort_values('Difference',ascending=False).reset_index(drop=True).head(10)"
   ]
  },
  {
   "cell_type": "markdown",
   "id": "f5c1b754",
   "metadata": {},
   "source": [
    "Youden's index comes with the optimum threshold as 0.6."
   ]
  },
  {
   "cell_type": "markdown",
   "id": "34b933b6",
   "metadata": {},
   "source": [
    "## Re-fitting the model with the Optimal Threshold Value"
   ]
  },
  {
   "cell_type": "code",
   "execution_count": 49,
   "id": "5c5eadbd",
   "metadata": {},
   "outputs": [
    {
     "name": "stdout",
     "output_type": "stream",
     "text": [
      "              precision    recall  f1-score   support\n",
      "\n",
      "           0       0.83      0.80      0.81     65164\n",
      "           1       0.76      0.79      0.78     52065\n",
      "\n",
      "    accuracy                           0.80    117229\n",
      "   macro avg       0.79      0.80      0.80    117229\n",
      "weighted avg       0.80      0.80      0.80    117229\n",
      "\n"
     ]
    }
   ],
   "source": [
    "#re=fitting the model with optimal threshold value which is 0.6\n",
    "y1_pred_prob=model_no_intercept.predict(X1_test)\n",
    "y1_pred=[0 if x<0.6 else 1 for x in y1_pred_prob]\n",
    "\n",
    "classi_report=classification_report(y1_test,y1_pred)\n",
    "print(classi_report)"
   ]
  },
  {
   "cell_type": "markdown",
   "id": "64256e9f",
   "metadata": {},
   "source": [
    "Accuracy has been increased and it is 80%, after re-fitting model with optimal threshold value."
   ]
  },
  {
   "cell_type": "markdown",
   "id": "93b2e7cd",
   "metadata": {},
   "source": [
    "# Ensemble Techniques"
   ]
  },
  {
   "cell_type": "markdown",
   "id": "fce08c1d",
   "metadata": {},
   "source": [
    "## Random Forest"
   ]
  },
  {
   "cell_type": "code",
   "execution_count": 75,
   "id": "84daddb5",
   "metadata": {},
   "outputs": [],
   "source": [
    "#renaming columns names\n",
    "X1_train=X1_train.rename(columns={'Vehicle_Age_< 1 Year':'Vehicle_less_than_1 yr',\n",
    "                                  'Vehicle_Age_> 2 Years':'Vehicle_less_than_2 yr'})"
   ]
  },
  {
   "cell_type": "code",
   "execution_count": 51,
   "id": "8059a34c",
   "metadata": {},
   "outputs": [],
   "source": [
    "rf_model=RandomForestClassifier(n_estimators=40,random_state=10)\n",
    "rf_model=rf_model.fit(X1_train,y1_train)"
   ]
  },
  {
   "cell_type": "code",
   "execution_count": 52,
   "id": "523dd1b8",
   "metadata": {},
   "outputs": [
    {
     "data": {
      "text/plain": [
       "<AxesSubplot:>"
      ]
     },
     "execution_count": 52,
     "metadata": {},
     "output_type": "execute_result"
    },
    {
     "data": {
      "image/png": "[encoded data removed]",
      "text/plain": [
       "<Figure size 432x288 with 2 Axes>"
      ]
     },
     "metadata": {
      "needs_background": "light"
     },
     "output_type": "display_data"
    }
   ],
   "source": [
    "y_pred=rf_model.predict(X1_test)\n",
    "cm=confusion_matrix(y1_test,y_pred)\n",
    "\n",
    "TN=cm[0,0]\n",
    "FP=cm[0,1]\n",
    "FN=cm[1,0]\n",
    "TP=cm[1,1]\n",
    "\n",
    "sns.heatmap(cm,xticklabels=['Predicted 0','Predicted 1'],annot=True,yticklabels=['Actual 0','Actual 1'],fmt='.2f')"
   ]
  },
  {
   "cell_type": "markdown",
   "id": "acca0fa4",
   "metadata": {},
   "source": [
    "Here, Clearly shows that the values of True Predictions are greater than False Predictions."
   ]
  },
  {
   "cell_type": "code",
   "execution_count": 53,
   "id": "f762e52c",
   "metadata": {},
   "outputs": [
    {
     "name": "stdout",
     "output_type": "stream",
     "text": [
      "              precision    recall  f1-score   support\n",
      "\n",
      "           0       0.90      0.88      0.89     65164\n",
      "           1       0.85      0.87      0.86     52065\n",
      "\n",
      "    accuracy                           0.88    117229\n",
      "   macro avg       0.87      0.88      0.87    117229\n",
      "weighted avg       0.88      0.88      0.88    117229\n",
      "\n"
     ]
    }
   ],
   "source": [
    "y_pred=rf_model.predict(X1_test)\n",
    "classi_report=classification_report(y1_test,y_pred)\n",
    "print(classi_report)"
   ]
  },
  {
   "cell_type": "markdown",
   "id": "ed73fca9",
   "metadata": {},
   "source": [
    "Accuracy score for Random Forest Model is 88%. It clearly shows that, by using ensemble technique, accuracy score has been increased."
   ]
  },
  {
   "cell_type": "markdown",
   "id": "05616690",
   "metadata": {},
   "source": [
    "## Ada Boosting "
   ]
  },
  {
   "cell_type": "code",
   "execution_count": 54,
   "id": "b6a0359b",
   "metadata": {},
   "outputs": [],
   "source": [
    "ad_model=AdaBoostClassifier(n_estimators=40,random_state=10)\n",
    "ad_model=ad_model.fit(X1_train,y1_train)"
   ]
  },
  {
   "cell_type": "code",
   "execution_count": 55,
   "id": "ed4bc77a",
   "metadata": {},
   "outputs": [
    {
     "data": {
      "text/plain": [
       "<AxesSubplot:>"
      ]
     },
     "execution_count": 55,
     "metadata": {},
     "output_type": "execute_result"
    },
    {
     "data": {
      "image/png": "[encoded data removed]",
      "text/plain": [
       "<Figure size 432x288 with 2 Axes>"
      ]
     },
     "metadata": {
      "needs_background": "light"
     },
     "output_type": "display_data"
    }
   ],
   "source": [
    "y_pred=ad_model.predict(X1_test)\n",
    "cm=confusion_matrix(y1_test,y_pred)\n",
    "\n",
    "sns.heatmap(cm,annot=True,xticklabels=['Predicted 0','Predicted 1'],yticklabels=['Actual 0','Actual 1'],fmt='.2f')"
   ]
  },
  {
   "cell_type": "code",
   "execution_count": 56,
   "id": "143382b2",
   "metadata": {},
   "outputs": [
    {
     "name": "stdout",
     "output_type": "stream",
     "text": [
      "              precision    recall  f1-score   support\n",
      "\n",
      "           0       0.89      0.76      0.82     65164\n",
      "           1       0.75      0.89      0.81     52065\n",
      "\n",
      "    accuracy                           0.82    117229\n",
      "   macro avg       0.82      0.83      0.82    117229\n",
      "weighted avg       0.83      0.82      0.82    117229\n",
      "\n"
     ]
    }
   ],
   "source": [
    "classi_report=classification_report(y1_test,y_pred)\n",
    "print(classi_report)"
   ]
  },
  {
   "cell_type": "markdown",
   "id": "9d4c74ff",
   "metadata": {},
   "source": [
    "Accuracy Score for Ada Boosting model is 82%"
   ]
  },
  {
   "cell_type": "markdown",
   "id": "5d6507ab",
   "metadata": {},
   "source": [
    "## Gradient Boosting"
   ]
  },
  {
   "cell_type": "code",
   "execution_count": 57,
   "id": "245cd44a",
   "metadata": {},
   "outputs": [],
   "source": [
    "gb_model=GradientBoostingClassifier(n_estimators=40,random_state=10)\n",
    "gb_model=gb_model.fit(X1_train,y1_train)"
   ]
  },
  {
   "cell_type": "code",
   "execution_count": 58,
   "id": "de86032d",
   "metadata": {},
   "outputs": [
    {
     "data": {
      "text/plain": [
       "<AxesSubplot:>"
      ]
     },
     "execution_count": 58,
     "metadata": {},
     "output_type": "execute_result"
    },
    {
     "data": {
      "image/png": "[encoded data removed]",
      "text/plain": [
       "<Figure size 432x288 with 2 Axes>"
      ]
     },
     "metadata": {
      "needs_background": "light"
     },
     "output_type": "display_data"
    }
   ],
   "source": [
    "y_pred=gb_model.predict(X1_test)\n",
    "cm=confusion_matrix(y1_test,y_pred)\n",
    "\n",
    "sns.heatmap(cm,annot=True,xticklabels=['Predicted 0','Predicted 1'],yticklabels=['Actual 0','Actual 1'],fmt='.2f')"
   ]
  },
  {
   "cell_type": "code",
   "execution_count": 59,
   "id": "d6082eb3",
   "metadata": {},
   "outputs": [
    {
     "name": "stdout",
     "output_type": "stream",
     "text": [
      "              precision    recall  f1-score   support\n",
      "\n",
      "           0       0.90      0.75      0.82     65164\n",
      "           1       0.74      0.90      0.81     52065\n",
      "\n",
      "    accuracy                           0.82    117229\n",
      "   macro avg       0.82      0.82      0.82    117229\n",
      "weighted avg       0.83      0.82      0.82    117229\n",
      "\n"
     ]
    }
   ],
   "source": [
    "classi_report=classification_report(y1_test,y_pred)\n",
    "print(classi_report)"
   ]
  },
  {
   "cell_type": "markdown",
   "id": "900fb747",
   "metadata": {},
   "source": [
    "Accuracy score for Gradient Boosting model is 82%."
   ]
  },
  {
   "cell_type": "markdown",
   "id": "499e4896",
   "metadata": {},
   "source": [
    "## XG Boosting"
   ]
  },
  {
   "cell_type": "code",
   "execution_count": 60,
   "id": "21100233",
   "metadata": {},
   "outputs": [
    {
     "name": "stdout",
     "output_type": "stream",
     "text": [
      "[18:20:59] WARNING: C:/Users/Administrator/workspace/xgboost-win64_release_1.5.1/src/learner.cc:1115: Starting in XGBoost 1.3.0, the default evaluation metric used with the objective 'binary:logistic' was changed from 'error' to 'logloss'. Explicitly set eval_metric if you'd like to restore the old behavior.\n"
     ]
    }
   ],
   "source": [
    "xg_model=XGBClassifier(random_state=10)\n",
    "xg_model=xg_model.fit(X1_train,y1_train)"
   ]
  },
  {
   "cell_type": "code",
   "execution_count": 61,
   "id": "b61870b2",
   "metadata": {},
   "outputs": [
    {
     "data": {
      "text/plain": [
       "<AxesSubplot:>"
      ]
     },
     "execution_count": 61,
     "metadata": {},
     "output_type": "execute_result"
    },
    {
     "data": {
      "image/png": "[encoded data removed]",
      "text/plain": [
       "<Figure size 432x288 with 2 Axes>"
      ]
     },
     "metadata": {
      "needs_background": "light"
     },
     "output_type": "display_data"
    }
   ],
   "source": [
    "y_pred=xg_model.predict(X1_test)\n",
    "cm=confusion_matrix(y1_test,y_pred)\n",
    "\n",
    "sns.heatmap(cm,annot=True,xticklabels=['Predicted 0','Predicted 1'],yticklabels=['Actual 0','Actual 1'],fmt='.2f')"
   ]
  },
  {
   "cell_type": "code",
   "execution_count": 62,
   "id": "6663ab5a",
   "metadata": {},
   "outputs": [
    {
     "name": "stdout",
     "output_type": "stream",
     "text": [
      "              precision    recall  f1-score   support\n",
      "\n",
      "           0       0.89      0.91      0.90     65164\n",
      "           1       0.88      0.86      0.87     52065\n",
      "\n",
      "    accuracy                           0.88    117229\n",
      "   macro avg       0.88      0.88      0.88    117229\n",
      "weighted avg       0.88      0.88      0.88    117229\n",
      "\n"
     ]
    }
   ],
   "source": [
    "classi_report=classification_report(y1_test,y_pred)\n",
    "print(classi_report)"
   ]
  },
  {
   "cell_type": "markdown",
   "id": "d36e7b13",
   "metadata": {},
   "source": [
    "The accuracy score for XG Boost model is 88%"
   ]
  },
  {
   "cell_type": "markdown",
   "id": "af2cfbe5",
   "metadata": {},
   "source": [
    "## Regularization"
   ]
  },
  {
   "cell_type": "markdown",
   "id": "ce045b65",
   "metadata": {},
   "source": [
    "### Ridge"
   ]
  },
  {
   "cell_type": "code",
   "execution_count": 63,
   "id": "f504bf76",
   "metadata": {},
   "outputs": [],
   "source": [
    "ridge= Ridge(random_state=10,alpha=0.01)\n",
    "ridge_model=ridge.fit(X1_test,y1_test)"
   ]
  },
  {
   "cell_type": "code",
   "execution_count": 64,
   "id": "0580cbcf",
   "metadata": {},
   "outputs": [
    {
     "data": {
      "text/plain": [
       "<AxesSubplot:>"
      ]
     },
     "execution_count": 64,
     "metadata": {},
     "output_type": "execute_result"
    },
    {
     "data": {
      "image/png": "[encoded data removed]",
      "text/plain": [
       "<Figure size 432x288 with 2 Axes>"
      ]
     },
     "metadata": {
      "needs_background": "light"
     },
     "output_type": "display_data"
    }
   ],
   "source": [
    "y_pred_prob=ridge_model.predict(X1_test)\n",
    "y_pred=[0 if x<0.6 else 1 for x in y_pred_prob]\n",
    "cm=confusion_matrix(y1_test,y_pred)\n",
    "\n",
    "sns.heatmap(cm,annot=True,yticklabels=['Actual 0','Actual 1'],xticklabels=['Predicted 0','Predicted 1'],fmt='.2f')"
   ]
  },
  {
   "cell_type": "code",
   "execution_count": 65,
   "id": "5edc77eb",
   "metadata": {},
   "outputs": [
    {
     "name": "stdout",
     "output_type": "stream",
     "text": [
      "              precision    recall  f1-score   support\n",
      "\n",
      "           0       0.82      0.81      0.81     65164\n",
      "           1       0.77      0.77      0.77     52065\n",
      "\n",
      "    accuracy                           0.79    117229\n",
      "   macro avg       0.79      0.79      0.79    117229\n",
      "weighted avg       0.79      0.79      0.79    117229\n",
      "\n"
     ]
    }
   ],
   "source": [
    "classi_report=classification_report(y1_test,y_pred)\n",
    "print(classi_report)"
   ]
  },
  {
   "cell_type": "markdown",
   "id": "46359298",
   "metadata": {},
   "source": [
    "Ridge model with optimal threshold value has been accuracy as 79%."
   ]
  },
  {
   "cell_type": "markdown",
   "id": "29d72915",
   "metadata": {},
   "source": [
    "### Lasso"
   ]
  },
  {
   "cell_type": "code",
   "execution_count": 66,
   "id": "70f5b4fc",
   "metadata": {},
   "outputs": [],
   "source": [
    "lasso=Lasso(random_state=10,alpha=0.01)\n",
    "lasso_model=lasso.fit(X1_test,y1_test)"
   ]
  },
  {
   "cell_type": "code",
   "execution_count": 67,
   "id": "d0399209",
   "metadata": {},
   "outputs": [
    {
     "data": {
      "text/plain": [
       "<AxesSubplot:>"
      ]
     },
     "execution_count": 67,
     "metadata": {},
     "output_type": "execute_result"
    },
    {
     "data": {
      "image/png": "[encoded data removed]",
      "text/plain": [
       "<Figure size 432x288 with 2 Axes>"
      ]
     },
     "metadata": {
      "needs_background": "light"
     },
     "output_type": "display_data"
    }
   ],
   "source": [
    "y_pred_prob=lasso_model.predict(X1_test)\n",
    "y_pred=[0 if x<0.6 else 1 for x in y_pred_prob]\n",
    "cm=confusion_matrix(y1_test,y_pred)\n",
    "\n",
    "sns.heatmap(cm,annot=True,yticklabels=['Actual 0','Actual 1'],xticklabels=['Predicted 0','Predicted 1'],fmt='.2f')"
   ]
  },
  {
   "cell_type": "code",
   "execution_count": 68,
   "id": "7c021782",
   "metadata": {},
   "outputs": [
    {
     "name": "stdout",
     "output_type": "stream",
     "text": [
      "              precision    recall  f1-score   support\n",
      "\n",
      "           0       0.81      0.81      0.81     65149\n",
      "           1       0.76      0.76      0.76     52080\n",
      "\n",
      "    accuracy                           0.79    117229\n",
      "   macro avg       0.79      0.79      0.79    117229\n",
      "weighted avg       0.79      0.79      0.79    117229\n",
      "\n"
     ]
    }
   ],
   "source": [
    "classi_report=classification_report(y_pred,y1_test)\n",
    "print(classi_report)"
   ]
  },
  {
   "cell_type": "markdown",
   "id": "4a375947",
   "metadata": {},
   "source": [
    "Lasso model came with an accuracy as 56%"
   ]
  },
  {
   "cell_type": "markdown",
   "id": "8f51ef4a",
   "metadata": {},
   "source": [
    "## Cross Validation"
   ]
  },
  {
   "cell_type": "code",
   "execution_count": 69,
   "id": "abb663a4",
   "metadata": {},
   "outputs": [
    {
     "data": {
      "text/plain": [
       "0.7463808244477578"
      ]
     },
     "execution_count": 69,
     "metadata": {},
     "output_type": "execute_result"
    }
   ],
   "source": [
    "log_reg=LogisticRegression(random_state=10)\n",
    "cv1=cross_val_score(estimator=log_reg,X=X1_train,y=y1_train,cv=5,scoring='accuracy')\n",
    "cv1=cv1.mean()\n",
    "cv1"
   ]
  },
  {
   "cell_type": "code",
   "execution_count": 70,
   "id": "f947b535",
   "metadata": {},
   "outputs": [
    {
     "data": {
      "text/plain": [
       "0.8719205280806606"
      ]
     },
     "execution_count": 70,
     "metadata": {},
     "output_type": "execute_result"
    }
   ],
   "source": [
    "rf=RandomForestClassifier(random_state=10)\n",
    "cv2=cross_val_score(estimator=rf,X=X1_train,y=y1_train,cv=5,scoring='accuracy')\n",
    "cv2=cv2.mean()\n",
    "cv2"
   ]
  },
  {
   "cell_type": "code",
   "execution_count": 71,
   "id": "922b77ba",
   "metadata": {},
   "outputs": [
    {
     "data": {
      "text/plain": [
       "0.8195332957697982"
      ]
     },
     "execution_count": 71,
     "metadata": {},
     "output_type": "execute_result"
    }
   ],
   "source": [
    "adboost=AdaBoostClassifier(random_state=10)\n",
    "cv3=cross_val_score(estimator=adboost,X=X1_train,y=y1_train,cv=5,scoring='accuracy')\n",
    "cv3=cv3.mean()\n",
    "cv3"
   ]
  },
  {
   "cell_type": "code",
   "execution_count": 72,
   "id": "c4c7f2d3",
   "metadata": {},
   "outputs": [
    {
     "data": {
      "text/plain": [
       "0.8360161369238845"
      ]
     },
     "execution_count": 72,
     "metadata": {},
     "output_type": "execute_result"
    }
   ],
   "source": [
    "gdboost=GradientBoostingClassifier(random_state=10)\n",
    "cv4=cross_val_score(estimator=gdboost,X=X1_train,y=y1_train,cv=5,scoring='accuracy')\n",
    "cv4=cv4.mean()\n",
    "cv4"
   ]
  },
  {
   "cell_type": "code",
   "execution_count": 162,
   "id": "b43f3d8b",
   "metadata": {},
   "outputs": [
    {
     "name": "stdout",
     "output_type": "stream",
     "text": [
      "[06:23:33] WARNING: C:/Users/Administrator/workspace/xgboost-win64_release_1.5.1/src/learner.cc:1115: Starting in XGBoost 1.3.0, the default evaluation metric used with the objective 'binary:logistic' was changed from 'error' to 'logloss'. Explicitly set eval_metric if you'd like to restore the old behavior.\n",
      "[06:24:08] WARNING: C:/Users/Administrator/workspace/xgboost-win64_release_1.5.1/src/learner.cc:1115: Starting in XGBoost 1.3.0, the default evaluation metric used with the objective 'binary:logistic' was changed from 'error' to 'logloss'. Explicitly set eval_metric if you'd like to restore the old behavior.\n",
      "[06:24:40] WARNING: C:/Users/Administrator/workspace/xgboost-win64_release_1.5.1/src/learner.cc:1115: Starting in XGBoost 1.3.0, the default evaluation metric used with the objective 'binary:logistic' was changed from 'error' to 'logloss'. Explicitly set eval_metric if you'd like to restore the old behavior.\n",
      "[06:25:13] WARNING: C:/Users/Administrator/workspace/xgboost-win64_release_1.5.1/src/learner.cc:1115: Starting in XGBoost 1.3.0, the default evaluation metric used with the objective 'binary:logistic' was changed from 'error' to 'logloss'. Explicitly set eval_metric if you'd like to restore the old behavior.\n",
      "[06:25:47] WARNING: C:/Users/Administrator/workspace/xgboost-win64_release_1.5.1/src/learner.cc:1115: Starting in XGBoost 1.3.0, the default evaluation metric used with the objective 'binary:logistic' was changed from 'error' to 'logloss'. Explicitly set eval_metric if you'd like to restore the old behavior.\n"
     ]
    },
    {
     "data": {
      "text/plain": [
       "0.8853047053619122"
      ]
     },
     "execution_count": 162,
     "metadata": {},
     "output_type": "execute_result"
    }
   ],
   "source": [
    "xgboost=XGBClassifier()\n",
    "cv5=cross_val_score(estimator=xgboost,X=X1_train,y=y1_train,cv=5,scoring='accuracy')\n",
    "cv5=cv5.mean()\n",
    "cv5"
   ]
  },
  {
   "cell_type": "markdown",
   "id": "58b5cb6f",
   "metadata": {},
   "source": [
    "## Fine tuning the models by using GridSearchCV"
   ]
  },
  {
   "cell_type": "code",
   "execution_count": 88,
   "id": "10164586",
   "metadata": {},
   "outputs": [],
   "source": [
    "rf_model=RandomForestClassifier(n_estimators=400,max_depth=110,random_state=10)\n",
    "rf_model=rf_model.fit(X1_train,y1_train)"
   ]
  },
  {
   "cell_type": "code",
   "execution_count": 89,
   "id": "502eb1c2",
   "metadata": {},
   "outputs": [
    {
     "data": {
      "text/plain": [
       "<AxesSubplot:>"
      ]
     },
     "execution_count": 89,
     "metadata": {},
     "output_type": "execute_result"
    },
    {
     "data": {
      "image/png": "[encoded data removed]",
      "text/plain": [
       "<Figure size 432x288 with 2 Axes>"
      ]
     },
     "metadata": {
      "needs_background": "light"
     },
     "output_type": "display_data"
    }
   ],
   "source": [
    "y_pred=rf_model.predict(X1_test)\n",
    "#y_pred=[0 if x<0.6 else 1 for x in y_pred_prob]\n",
    "cm=confusion_matrix(y1_test,y_pred)\n",
    "\n",
    "sns.heatmap(cm,annot=True,yticklabels=['Actual 0','Actual 1'],xticklabels=['Predicted 0','Predicted 1'],fmt='.2f')"
   ]
  },
  {
   "cell_type": "code",
   "execution_count": 90,
   "id": "ab74759e",
   "metadata": {},
   "outputs": [
    {
     "name": "stdout",
     "output_type": "stream",
     "text": [
      "              precision    recall  f1-score   support\n",
      "\n",
      "           0       0.90      0.87      0.89     65164\n",
      "           1       0.85      0.88      0.86     52065\n",
      "\n",
      "    accuracy                           0.88    117229\n",
      "   macro avg       0.87      0.88      0.88    117229\n",
      "weighted avg       0.88      0.88      0.88    117229\n",
      "\n"
     ]
    }
   ],
   "source": [
    "classi_report=classification_report(y1_test,y_pred)\n",
    "print(classi_report)"
   ]
  },
  {
   "cell_type": "markdown",
   "id": "98329662",
   "metadata": {},
   "source": [
    "## Feature Importances"
   ]
  },
  {
   "cell_type": "code",
   "execution_count": 99,
   "id": "2ab698e0",
   "metadata": {},
   "outputs": [
    {
     "data": {
      "image/png": "[encoded data removed]",
      "text/plain": [
       "<Figure size 432x288 with 1 Axes>"
      ]
     },
     "metadata": {
      "needs_background": "light"
     },
     "output_type": "display_data"
    }
   ],
   "source": [
    "important_features = pd.DataFrame({'Features': X1_train.columns, \n",
    "                                   'Importance': rf_model.feature_importances_})\n",
    "\n",
    "important_features = important_features.sort_values('Importance', ascending = False)\n",
    "\n",
    "sns.barplot(x = 'Importance', y = 'Features', data = important_features)\n",
    "\n",
    "plt.title('Feature Importance', fontsize = 15)\n",
    "plt.xlabel('Importance', fontsize = 15)\n",
    "plt.ylabel('Features', fontsize = 15)\n",
    "\n",
    "plt.show()"
   ]
  },
  {
   "cell_type": "markdown",
   "id": "a29244f2",
   "metadata": {},
   "source": [
    "Inference: In the above plot, we could see that the feature Previously_Insured_1 is the most important feature."
   ]
  },
  {
   "cell_type": "markdown",
   "id": "216a643f",
   "metadata": {},
   "source": [
    "## Summary of Models\n",
    "**Logistic Regression:**\n",
    "\n",
    "            precision    recall  f1-score   support\n",
    "\n",
    "        0       0.61      0.74      0.67     65164\n",
    "        1       0.55      0.40      0.46     52065\n",
    "\n",
    "    accuracy                           0.59    117229\n",
    "                 \n",
    "**Logistic Regression with Optimal threshold value:**\n",
    "\n",
    "             precision    recall  f1-score   support\n",
    "\n",
    "         0       0.83      0.80      0.81     65164\n",
    "         1       0.76      0.79      0.78     52065\n",
    "\n",
    "    accuracy                           0.80    117229\n",
    "           \n",
    "**Random Forest:**\n",
    "\n",
    "              precision    recall  f1-score   support\n",
    "\n",
    "          0       0.90      0.88      0.89     65164\n",
    "          1       0.85      0.87      0.86     52065\n",
    "\n",
    "    accuracy                           0.88    117229\n",
    " \n",
    "**Ada Boost:**\n",
    "\n",
    "              precision    recall  f1-score   support\n",
    "\n",
    "          0       0.89      0.76      0.82     65164\n",
    "          1       0.75      0.89      0.81     52065\n",
    "\n",
    "    accuracy                           0.82    117229\n",
    "           \n",
    "**Gradient Boost:**\n",
    " \n",
    "              precision    recall  f1-score   support\n",
    "\n",
    "          0       0.90      0.75      0.82     65164\n",
    "          1       0.74      0.90      0.81     52065\n",
    "\n",
    "    accuracy                           0.82    117229\n",
    "           \n",
    "**XG Boost:**\n",
    " \n",
    "              precision    recall  f1-score   support\n",
    "\n",
    "          0       0.89      0.91      0.90     65164\n",
    "          1       0.88      0.86      0.87     52065\n",
    "\n",
    "    accuracy                           0.88    117229\n",
    "           \n",
    "**Ridge:**\n",
    " \n",
    "              precision    recall  f1-score   support\n",
    "\n",
    "          0       0.82      0.81      0.81     65164\n",
    "          1       0.77      0.77      0.77     52065\n",
    "\n",
    "    accuracy                           0.79    117229\n",
    "    \n",
    "**Lasso:**\n",
    "\n",
    "              precision    recall  f1-score   support\n",
    "\n",
    "          0       0.81      0.81      0.81     65149\n",
    "          1       0.76      0.76      0.76     52080\n",
    "\n",
    "    accuracy                           0.79    117229\n",
    "\n",
    "**Random Forest with Tuned Parameter:**\n",
    " \n",
    "              precision    recall  f1-score   support\n",
    "\n",
    "           0       0.90      0.87      0.89     65164\n",
    "           1       0.85      0.88      0.86     52065\n",
    "\n",
    "    accuracy                           0.88    117229"
   ]
  },
  {
   "cell_type": "markdown",
   "id": "ec446511",
   "metadata": {},
   "source": [
    "### Inference: It seems Random Forest model and Xg boost model are good. Because, these models are giving higher accuracy than all other models. Thus, what we can conclude is, we can suggest the company to build by using either Random Forest or XG Boost to predict whether the customer is interested in buying Vehicle Insurance or not."
   ]
  }
 ],
 "metadata": {
  "kernelspec": {
   "display_name": "Python 3",
   "language": "python",
   "name": "python3"
  },
  "language_info": {
   "codemirror_mode": {
    "name": "ipython",
    "version": 3
   },
   "file_extension": ".py",
   "mimetype": "text/x-python",
   "name": "python",
   "nbconvert_exporter": "python",
   "pygments_lexer": "ipython3",
   "version": "3.8.8"
  }
 },
 "nbformat": 4,
 "nbformat_minor": 5
}
